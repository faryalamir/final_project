{
 "cells": [
  {
   "cell_type": "code",
   "execution_count": 1,
   "id": "aac903bc",
   "metadata": {},
   "outputs": [],
   "source": [
    "import pandas as pd"
   ]
  },
  {
   "cell_type": "code",
   "execution_count": 2,
   "id": "416cba85",
   "metadata": {
    "scrolled": true
   },
   "outputs": [
    {
     "name": "stderr",
     "output_type": "stream",
     "text": [
      "/var/folders/t8/k_p89pr11hl5tqbxsmphfkyr0000gp/T/ipykernel_27914/320770702.py:3: DtypeWarning: Columns (7,8) have mixed types. Specify dtype option on import or set low_memory=False.\n",
      "  file3 = pd.read_csv('flights.csv')\n"
     ]
    }
   ],
   "source": [
    "file1 = pd.read_csv('airlines.csv')\n",
    "file2 = pd.read_csv('airports.csv')\n",
    "file3 = pd.read_csv('flights.csv')\n",
    "\n"
   ]
  },
  {
   "cell_type": "code",
   "execution_count": 3,
   "id": "3fd8a788-8313-408a-94be-de22f243d4e0",
   "metadata": {},
   "outputs": [
    {
     "name": "stderr",
     "output_type": "stream",
     "text": [
      "/var/folders/t8/k_p89pr11hl5tqbxsmphfkyr0000gp/T/ipykernel_27914/796278847.py:4: DtypeWarning: Columns (7,8) have mixed types. Specify dtype option on import or set low_memory=False.\n",
      "  file3 = pd.read_csv('flights.csv')\n"
     ]
    }
   ],
   "source": [
    "\n",
    "# Read the CSV files\n",
    "file1 = pd.read_csv('airlines.csv')\n",
    "file2 = pd.read_csv('airports.csv')\n",
    "file3 = pd.read_csv('flights.csv')\n",
    "\n",
    "# Function to handle missing values in a DataFrame\n",
    "def handle_missing_values(df):\n",
    "    for column in df.columns:\n",
    "        if df[column].dtype == 'object':\n",
    "            # For categorical columns, fill missing values with the mode (most frequent value)\n",
    "            df[column].fillna(df[column].mode()[0], inplace=True)\n",
    "        else:\n",
    "            # For numerical columns, fill missing values with the mean\n",
    "            df[column].fillna(df[column].mean(), inplace=True)\n",
    "\n",
    "# Handle missing values for all DataFrames\n",
    "handle_missing_values(file1)\n",
    "handle_missing_values(file2)\n",
    "handle_missing_values(file3)\n"
   ]
  },
  {
   "cell_type": "markdown",
   "id": "bb00a472",
   "metadata": {},
   "source": [
    "#### How can we develop a machine learning model that accurately predicts the likelihood of flight delays and cancellations based on historical flight data, weather conditions, airport information, and other relevant factors, with the goal of improving passenger satisfaction and airline operations?\n"
   ]
  },
  {
   "cell_type": "code",
   "execution_count": 4,
   "id": "8cb0192f-c393-4825-bd86-5a934a71db7d",
   "metadata": {},
   "outputs": [
    {
     "name": "stderr",
     "output_type": "stream",
     "text": [
      "/var/folders/t8/k_p89pr11hl5tqbxsmphfkyr0000gp/T/ipykernel_27914/2506053385.py:10: SettingWithCopyWarning: \n",
      "A value is trying to be set on a copy of a slice from a DataFrame.\n",
      "Try using .loc[row_indexer,col_indexer] = value instead\n",
      "\n",
      "See the caveats in the documentation: https://pandas.pydata.org/pandas-docs/stable/user_guide/indexing.html#returning-a-view-versus-a-copy\n",
      "  X.fillna(X.mean(), inplace=True)\n"
     ]
    }
   ],
   "source": [
    "import pandas as pd\n",
    "from sklearn.model_selection import train_test_split\n",
    "\n",
    "# Define X (features) and y (target variable)\n",
    "\n",
    "X = file3[['DEPARTURE_DELAY', 'ARRIVAL_TIME', 'SCHEDULED_DEPARTURE', 'WEATHER_DELAY']]  \n",
    "y = file3['CANCELLED'] \n",
    "\n",
    "# Handle missing values in X by filling NaN values with the mean of each column\n",
    "X.fillna(X.mean(), inplace=True)\n",
    "\n",
    "# Split the data into training and testing sets\n",
    "X_train, X_test, y_train, y_test = train_test_split(X, y, test_size=0.2, random_state=42)\n",
    "\n",
    "\n",
    "\n"
   ]
  },
  {
   "cell_type": "code",
   "execution_count": 5,
   "id": "21c644ac-67b8-43f8-bbfc-0bbed3a5dd68",
   "metadata": {},
   "outputs": [
    {
     "name": "stdout",
     "output_type": "stream",
     "text": [
      "KNN Accuracy: 0.9994792991331963\n"
     ]
    }
   ],
   "source": [
    "#KNN\n",
    "\n",
    "from sklearn.neighbors import KNeighborsClassifier\n",
    "\n",
    "# Create a KNN classifier with a specified number of neighbors (adjust n_neighbors as needed)\n",
    "knn_classifier = KNeighborsClassifier(n_neighbors=3)\n",
    "\n",
    "# Fit the KNN classifier on the training data\n",
    "knn_classifier.fit(X_train, y_train)\n",
    "\n",
    "# Make predictions on the test data\n",
    "knn_predictions = knn_classifier.predict(X_test)\n",
    "\n",
    "# Calculate the accuracy of the KNN model\n",
    "knn_accuracy = knn_classifier.score(X_test, y_test)\n",
    "\n",
    "print(\"KNN Accuracy:\", knn_accuracy)\n"
   ]
  },
  {
   "cell_type": "code",
   "execution_count": 6,
   "id": "83414fd8-d008-4a99-83de-78c0d7b23e53",
   "metadata": {},
   "outputs": [
    {
     "name": "stdout",
     "output_type": "stream",
     "text": [
      "Random Forest Accuracy: 0.9995024986767668\n"
     ]
    }
   ],
   "source": [
    "#Random Forest:\n",
    "\n",
    "from sklearn.ensemble import RandomForestClassifier\n",
    "\n",
    "# Create a Random Forest classifier (adjust parameters as needed)\n",
    "random_forest_classifier = RandomForestClassifier(n_estimators=100, random_state=42)\n",
    "\n",
    "# Fit the Random Forest classifier on the training data\n",
    "random_forest_classifier.fit(X_train, y_train)\n",
    "\n",
    "# Make predictions on the test data\n",
    "random_forest_predictions = random_forest_classifier.predict(X_test)\n",
    "\n",
    "# Calculate the accuracy of the Random Forest model\n",
    "random_forest_accuracy = random_forest_classifier.score(X_test, y_test)\n",
    "\n",
    "print(\"Random Forest Accuracy:\", random_forest_accuracy)\n"
   ]
  },
  {
   "cell_type": "code",
   "execution_count": 7,
   "id": "33ea0c12-6fff-4cc6-bbb5-ce691b889568",
   "metadata": {},
   "outputs": [
    {
     "name": "stdout",
     "output_type": "stream",
     "text": [
      "Decision Tree Accuracy: 0.999475002921424\n"
     ]
    }
   ],
   "source": [
    "#Decision Tree:\n",
    "\n",
    "from sklearn.tree import DecisionTreeClassifier\n",
    "\n",
    "# Create a Decision Tree classifier ( adjust parameters as needed)\n",
    "decision_tree_classifier = DecisionTreeClassifier(random_state=42)\n",
    "\n",
    "# Fit the Decision Tree classifier on the training data\n",
    "decision_tree_classifier.fit(X_train, y_train)\n",
    "\n",
    "# Make predictions on the test data\n",
    "decision_tree_predictions = decision_tree_classifier.predict(X_test)\n",
    "\n",
    "# Calculate the accuracy of the Decision Tree model\n",
    "decision_tree_accuracy = decision_tree_classifier.score(X_test, y_test)\n",
    "\n",
    "print(\"Decision Tree Accuracy:\", decision_tree_accuracy)\n"
   ]
  },
  {
   "cell_type": "code",
   "execution_count": 8,
   "id": "6b6b45a8",
   "metadata": {},
   "outputs": [
    {
     "name": "stdout",
     "output_type": "stream",
     "text": [
      "Confusion Matrix for KNN Model:\n",
      "[[1145570     327]\n",
      " [    279   17640]]\n",
      "\n",
      "Confusion Matrix for Random Forest Model:\n",
      "[[1145587     310]\n",
      " [    269   17650]]\n",
      "\n",
      "Confusion Matrix for Decision Tree Model:\n",
      "[[1145613     284]\n",
      " [    327   17592]]\n"
     ]
    }
   ],
   "source": [
    "from sklearn.metrics import confusion_matrix\n",
    "\n",
    "# Confusion matrix for KNN model\n",
    "knn_confusion_matrix = confusion_matrix(y_test, knn_predictions)\n",
    "print(\"Confusion Matrix for KNN Model:\")\n",
    "print(knn_confusion_matrix)\n",
    "\n",
    "# Confusion matrix for Random Forest model\n",
    "random_forest_confusion_matrix = confusion_matrix(y_test, random_forest_predictions)\n",
    "print(\"\\nConfusion Matrix for Random Forest Model:\")\n",
    "print(random_forest_confusion_matrix)\n",
    "\n",
    "# Confusion matrix for Decision Tree model\n",
    "decision_tree_confusion_matrix = confusion_matrix(y_test, decision_tree_predictions)\n",
    "print(\"\\nConfusion Matrix for Decision Tree Model:\")\n",
    "print(decision_tree_confusion_matrix)\n"
   ]
  },
  {
   "cell_type": "markdown",
   "id": "e7137b4a",
   "metadata": {},
   "source": [
    "#### Based on these metrics, all three models (KNN, Random Forest, and Decision Tree) are performing exceptionally well with high accuracy and similar precision and recall scores. The differences are minimal, so choosing the best model may also depend on other factors like computational resources, model interpretability, and the specific requirements of your application."
   ]
  },
  {
   "cell_type": "code",
   "execution_count": 9,
   "id": "59c647a4",
   "metadata": {},
   "outputs": [],
   "source": [
    "import pickle\n",
    "\n",
    "# Save the KNN model to a .pkl file\n",
    "with open('knn_model.pkl', 'wb') as file:\n",
    "    pickle.dump(knn_classifier, file)\n",
    "\n",
    "# Save the Random Forest model to a .pkl file\n",
    "with open('random_forest_model.pkl', 'wb') as file:\n",
    "    pickle.dump(random_forest_classifier, file)\n",
    "\n",
    "# Save the Decision Tree model to a .pkl file\n",
    "with open('decision_tree_model.pkl', 'wb') as file:\n",
    "    pickle.dump(decision_tree_classifier, file)\n"
   ]
  },
  {
   "cell_type": "code",
   "execution_count": 10,
   "id": "8c8236b3",
   "metadata": {},
   "outputs": [],
   "source": [
    "# Load the KNN model\n",
    "with open('knn_model.pkl', 'rb') as file:\n",
    "    knn_loaded_model = pickle.load(file)\n",
    "\n",
    "# Load the Random Forest model\n",
    "with open('random_forest_model.pkl', 'rb') as file:\n",
    "    random_forest_loaded_model = pickle.load(file)\n",
    "\n",
    "# Load the Decision Tree model\n",
    "with open('decision_tree_model.pkl', 'rb') as file:\n",
    "    decision_tree_loaded_model = pickle.load(file)\n"
   ]
  },
  {
   "cell_type": "markdown",
   "id": "6931f023",
   "metadata": {},
   "source": [
    "##### \n",
    "This solution focuses on the development of a predictive model that can help airlines, airports, and passengers anticipate and mitigate potential flight delays and cancellations, ultimately leading to a better travel experience and operational efficiency. It's a practical and relevant question for the aviation industry.\n",
    "\n",
    "\n"
   ]
  }
 ],
 "metadata": {
  "kernelspec": {
   "display_name": "Python 3 (ipykernel)",
   "language": "python",
   "name": "python3"
  },
  "language_info": {
   "codemirror_mode": {
    "name": "ipython",
    "version": 3
   },
   "file_extension": ".py",
   "mimetype": "text/x-python",
   "name": "python",
   "nbconvert_exporter": "python",
   "pygments_lexer": "ipython3",
   "version": "3.11.4"
  }
 },
 "nbformat": 4,
 "nbformat_minor": 5
}
