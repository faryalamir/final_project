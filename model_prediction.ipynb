{
 "cells": [
  {
   "cell_type": "code",
   "execution_count": 2,
   "id": "d165cc68",
   "metadata": {},
   "outputs": [
    {
     "name": "stderr",
     "output_type": "stream",
     "text": [
      "/tmp/ipykernel_366/1848876201.py:3: DtypeWarning: Columns (7,8) have mixed types. Specify dtype option on import or set low_memory=False.\n",
      "  file3 = pd.read_csv('flights.csv')\n"
     ]
    }
   ],
   "source": [
    "file1 = pd.read_csv('airlines.csv')\n",
    "file2 = pd.read_csv('airports.csv')\n",
    "file3 = pd.read_csv('flights.csv')"
   ]
  },
  {
   "cell_type": "code",
   "execution_count": 1,
   "id": "416cba85",
   "metadata": {},
   "outputs": [],
   "source": [
    "import pandas as pd"
   ]
  },
  {
   "cell_type": "code",
   "execution_count": 14,
   "id": "3fd8a788-8313-408a-94be-de22f243d4e0",
   "metadata": {},
   "outputs": [
    {
     "name": "stderr",
     "output_type": "stream",
     "text": [
      "/tmp/ipykernel_366/3989683003.py:6: DtypeWarning: Columns (7,8) have mixed types. Specify dtype option on import or set low_memory=False.\n",
      "  file3 = pd.read_csv('flights.csv')\n"
     ]
    }
   ],
   "source": [
    "\n",
    "# Read the CSV files\n",
    "file1 = pd.read_csv('airlines.csv')\n",
    "file2 = pd.read_csv('airports.csv')\n",
    "file3 = pd.read_csv('flights.csv')\n",
    "\n",
    "# Function to handle missing values in a DataFrame\n",
    "def handle_missing_values(df):\n",
    "    for column in df.columns:\n",
    "        if df[column].dtype == 'object':\n",
    "            # For categorical columns, fill missing values with the mode (most frequent value)\n",
    "            df[column].fillna(df[column].mode()[0], inplace=True)\n",
    "        else:\n",
    "            # For numerical columns, fill missing values with the mean\n",
    "            df[column].fillna(df[column].mean(), inplace=True)\n",
    "\n",
    "# Handle missing values for all DataFrames\n",
    "handle_missing_values(file1)\n",
    "handle_missing_values(file2)\n",
    "handle_missing_values(file3)\n"
   ]
  },
  {
   "cell_type": "code",
   "execution_count": 18,
   "id": "7141df54-23e8-4f17-910b-7c889ebe6720",
   "metadata": {},
   "outputs": [
    {
     "name": "stdout",
     "output_type": "stream",
     "text": [
      "    MONTH  CANCELLED  PREDICTED_CANCELLATIONS\n",
      "0       1      11982                 5.774458\n",
      "1       2      20517                 9.887711\n",
      "2       3      11002                 5.302169\n",
      "3       4       4520                 2.178313\n",
      "4       5       5694                 2.744096\n",
      "5       6       9120                 4.395181\n",
      "6       7       4806                 2.316145\n",
      "7       8       5052                 2.434699\n",
      "8       9       2075                 1.000000\n",
      "9      10       2454                 1.182651\n",
      "10     11       4599                 2.216386\n",
      "11     12       8063                 3.885783\n"
     ]
    }
   ],
   "source": [
    "import pandas as pd\n",
    "\n",
    "# Assuming 'file3' is your DataFrame\n",
    "# Calculate the sum of cancellations for each month\n",
    "cancellations_by_month = file3.groupby('MONTH')['CANCELLED'].sum().reset_index()\n",
    "\n",
    "# Find the month with the fewest cancellations\n",
    "month_with_fewest_cancellations = cancellations_by_month.loc[cancellations_by_month['CANCELLED'].idxmin()]\n",
    "\n",
    "# Calculate the number of cancellations for each month based on the formula\n",
    "cancellations_by_month['PREDICTED_CANCELLATIONS'] = cancellations_by_month['CANCELLED'] / month_with_fewest_cancellations['CANCELLED']\n",
    "\n",
    "# Now 'cancellations_by_month' DataFrame contains the predicted number of cancellations for each month\n",
    "print(cancellations_by_month)\n"
   ]
  },
  {
   "cell_type": "code",
   "execution_count": 13,
   "id": "0387838c-4904-4461-a157-f3571e9f0b25",
   "metadata": {},
   "outputs": [],
   "source": [
    "#\"How can we develop a machine learning model that accurately predicts the likelihood of flight delays and cancellations based on historical flight data, weather conditions, airport information, and other relevant factors, with the goal of improving passenger satisfaction and airline operations?\"\n",
    "\n",
    "#This question focuses on the development of a predictive model that can help airlines, airports, and passengers anticipate and mitigate potential flight delays and cancellations, ultimately leading to a better travel experience and operational efficiency. It's a practical and relevant question for the aviation industry."
   ]
  },
  {
   "cell_type": "code",
   "execution_count": null,
   "id": "d7866e71-a817-4ba1-970a-511698726a8c",
   "metadata": {},
   "outputs": [],
   "source": []
  },
  {
   "cell_type": "code",
   "execution_count": 21,
   "id": "8cb0192f-c393-4825-bd86-5a934a71db7d",
   "metadata": {},
   "outputs": [
    {
     "name": "stderr",
     "output_type": "stream",
     "text": [
      "/tmp/ipykernel_366/2166012626.py:11: SettingWithCopyWarning: \n",
      "A value is trying to be set on a copy of a slice from a DataFrame\n",
      "\n",
      "See the caveats in the documentation: https://pandas.pydata.org/pandas-docs/stable/user_guide/indexing.html#returning-a-view-versus-a-copy\n",
      "  X.fillna(X.mean(), inplace=True)\n"
     ]
    }
   ],
   "source": [
    "import pandas as pd\n",
    "from sklearn.model_selection import train_test_split\n",
    "\n",
    "# Assuming you have a DataFrame 'file3' with your data\n",
    "# Define X (features) and y (target variable)\n",
    "\n",
    "X = file3[['DEPARTURE_DELAY', 'ARRIVAL_TIME', 'SCHEDULED_DEPARTURE', 'WEATHER_DELAY']]  \n",
    "y = file3['CANCELLED'] \n",
    "\n",
    "# Handle missing values in X by filling NaN values with the mean of each column\n",
    "X.fillna(X.mean(), inplace=True)\n",
    "\n",
    "# Split the data into training and testing sets\n",
    "X_train, X_test, y_train, y_test = train_test_split(X, y, test_size=0.2, random_state=42)\n",
    "\n",
    "\n",
    "\n"
   ]
  },
  {
   "cell_type": "code",
   "execution_count": 22,
   "id": "21c644ac-67b8-43f8-bbfc-0bbed3a5dd68",
   "metadata": {},
   "outputs": [
    {
     "name": "stdout",
     "output_type": "stream",
     "text": [
      "KNN Accuracy: 0.9994792991331963\n"
     ]
    }
   ],
   "source": [
    "from sklearn.neighbors import KNeighborsClassifier\n",
    "\n",
    "# Create a KNN classifier with a specified number of neighbors (adjust n_neighbors as needed)\n",
    "knn_classifier = KNeighborsClassifier(n_neighbors=3)\n",
    "\n",
    "# Fit the KNN classifier on the training data\n",
    "knn_classifier.fit(X_train, y_train)\n",
    "\n",
    "# Make predictions on the test data\n",
    "knn_predictions = knn_classifier.predict(X_test)\n",
    "\n",
    "# Calculate the accuracy of the KNN model\n",
    "knn_accuracy = knn_classifier.score(X_test, y_test)\n",
    "\n",
    "print(\"KNN Accuracy:\", knn_accuracy)\n"
   ]
  },
  {
   "cell_type": "code",
   "execution_count": 23,
   "id": "83414fd8-d008-4a99-83de-78c0d7b23e53",
   "metadata": {},
   "outputs": [
    {
     "name": "stdout",
     "output_type": "stream",
     "text": [
      "Random Forest Accuracy: 0.9995024986767668\n"
     ]
    }
   ],
   "source": [
    "#Random Forest:\n",
    "\n",
    "from sklearn.ensemble import RandomForestClassifier\n",
    "\n",
    "# Create a Random Forest classifier (you can adjust parameters as needed)\n",
    "random_forest_classifier = RandomForestClassifier(n_estimators=100, random_state=42)\n",
    "\n",
    "# Fit the Random Forest classifier on the training data\n",
    "random_forest_classifier.fit(X_train, y_train)\n",
    "\n",
    "# Make predictions on the test data\n",
    "random_forest_predictions = random_forest_classifier.predict(X_test)\n",
    "\n",
    "# Calculate the accuracy of the Random Forest model\n",
    "random_forest_accuracy = random_forest_classifier.score(X_test, y_test)\n",
    "\n",
    "print(\"Random Forest Accuracy:\", random_forest_accuracy)\n"
   ]
  },
  {
   "cell_type": "code",
   "execution_count": 20,
   "id": "a6388ee1-3671-4e7e-ba42-9a657251b7ec",
   "metadata": {},
   "outputs": [],
   "source": [
    "#Decision Tree:\n",
    "\n"
   ]
  },
  {
   "cell_type": "code",
   "execution_count": 24,
   "id": "33ea0c12-6fff-4cc6-bbb5-ce691b889568",
   "metadata": {},
   "outputs": [
    {
     "name": "stdout",
     "output_type": "stream",
     "text": [
      "Decision Tree Accuracy: 0.999475002921424\n"
     ]
    }
   ],
   "source": [
    "from sklearn.tree import DecisionTreeClassifier\n",
    "\n",
    "# Create a Decision Tree classifier (you can adjust parameters as needed)\n",
    "decision_tree_classifier = DecisionTreeClassifier(random_state=42)\n",
    "\n",
    "# Fit the Decision Tree classifier on the training data\n",
    "decision_tree_classifier.fit(X_train, y_train)\n",
    "\n",
    "# Make predictions on the test data\n",
    "decision_tree_predictions = decision_tree_classifier.predict(X_test)\n",
    "\n",
    "# Calculate the accuracy of the Decision Tree model\n",
    "decision_tree_accuracy = decision_tree_classifier.score(X_test, y_test)\n",
    "\n",
    "print(\"Decision Tree Accuracy:\", decision_tree_accuracy)\n"
   ]
  },
  {
   "cell_type": "code",
   "execution_count": null,
   "id": "ebe30e97-80e8-461c-ad5f-4cdd2653d593",
   "metadata": {},
   "outputs": [],
   "source": []
  },
  {
   "cell_type": "code",
   "execution_count": null,
   "id": "e046e143-f310-4f3a-bf8b-7f1822b663cc",
   "metadata": {},
   "outputs": [],
   "source": [
    "Conclusion : In our analysis of flight data, we applied three machine learning models: K-Nearest Neighbors (KNN), Random Forest, and Decision Tree. The high accuracy values obtained from these models indicate their effectiveness in predicting flight cancellations.\n",
    "\n",
    "K-Nearest Neighbors (KNN) achieved an accuracy of approximately 99.95%, highlighting its ability to make precise predictions based on the proximity of data points. Random Forest also demonstrated remarkable accuracy, with a score of approximately 99.95%, showcasing the strength of ensemble methods in handling complex datasets.\n",
    "\n",
    "The Decision Tree model, while slightly lower in accuracy at approximately 99.95%, offers an interpretable and transparent approach for making predictions.\n",
    "\n",
    "In summary, all three models delivered exceptional accuracy, making them valuable tools for predicting flight cancellations and enhancing the efficiency of flight management systems. The choice of model can be tailored to specific requirements, considering factors such as interpretability, computational resources, and dataset characteristics. These results underscore the potential for machine learning to significantly improve flight scheduling and passenger experience.\n",
    "\n",
    "\n",
    "\n",
    "\n",
    "\n"
   ]
  },
  {
   "cell_type": "code",
   "execution_count": null,
   "id": "d0012369-e6d7-451a-9537-78d0ed9746c7",
   "metadata": {},
   "outputs": [],
   "source": []
  },
  {
   "cell_type": "code",
   "execution_count": null,
   "id": "e62b4dd5-1523-47ef-91cd-ef3cacd82d52",
   "metadata": {},
   "outputs": [],
   "source": []
  },
  {
   "cell_type": "code",
   "execution_count": null,
   "id": "e27a9c93",
   "metadata": {},
   "outputs": [],
   "source": []
  },
  {
   "cell_type": "code",
   "execution_count": null,
   "id": "ad2672ec-7cd2-49bc-b0de-958b34e53882",
   "metadata": {},
   "outputs": [],
   "source": []
  },
  {
   "cell_type": "code",
   "execution_count": null,
   "id": "7d662764",
   "metadata": {},
   "outputs": [],
   "source": []
  },
  {
   "cell_type": "code",
   "execution_count": null,
   "id": "043b0857",
   "metadata": {},
   "outputs": [],
   "source": []
  }
 ],
 "metadata": {
  "kernelspec": {
   "display_name": "Python 3 (ipykernel)",
   "language": "python",
   "name": "python3"
  },
  "language_info": {
   "codemirror_mode": {
    "name": "ipython",
    "version": 3
   },
   "file_extension": ".py",
   "mimetype": "text/x-python",
   "name": "python",
   "nbconvert_exporter": "python",
   "pygments_lexer": "ipython3",
   "version": "3.11.6"
  }
 },
 "nbformat": 4,
 "nbformat_minor": 5
}
