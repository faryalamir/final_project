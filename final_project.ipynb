{
 "cells": [
  {
   "cell_type": "code",
   "execution_count": 18,
   "id": "416cba85",
   "metadata": {},
   "outputs": [],
   "source": [
    "import pandas as pd"
   ]
  },
  {
   "cell_type": "code",
   "execution_count": 19,
   "id": "d165cc68",
   "metadata": {},
   "outputs": [
    {
     "name": "stderr",
     "output_type": "stream",
     "text": [
      "/var/folders/t8/k_p89pr11hl5tqbxsmphfkyr0000gp/T/ipykernel_11674/1848876201.py:3: DtypeWarning: Columns (7,8) have mixed types. Specify dtype option on import or set low_memory=False.\n",
      "  file3 = pd.read_csv('flights.csv')\n"
     ]
    }
   ],
   "source": [
    "file1 = pd.read_csv('airlines.csv')\n",
    "file2 = pd.read_csv('airports.csv')\n",
    "file3 = pd.read_csv('flights.csv')"
   ]
  },
  {
   "cell_type": "markdown",
   "id": "c62650d6",
   "metadata": {},
   "source": [
    "#### How many unique airlines are there in the dataset, and what are their names?\n",
    "\n"
   ]
  },
  {
   "cell_type": "code",
   "execution_count": 20,
   "id": "9c8821ba",
   "metadata": {},
   "outputs": [
    {
     "name": "stdout",
     "output_type": "stream",
     "text": [
      "There are 14 unique airlines in the dataset.\n",
      "Airline Names:\n",
      "United Air Lines Inc.\n",
      "American Airlines Inc.\n",
      "US Airways Inc.\n",
      "Frontier Airlines Inc.\n",
      "JetBlue Airways\n",
      "Skywest Airlines Inc.\n",
      "Alaska Airlines Inc.\n",
      "Spirit Air Lines\n",
      "Southwest Airlines Co.\n",
      "Delta Air Lines Inc.\n",
      "Atlantic Southeast Airlines\n",
      "Hawaiian Airlines Inc.\n",
      "American Eagle Airlines Inc.\n",
      "Virgin America\n"
     ]
    }
   ],
   "source": [
    "import pandas as pd\n",
    "unique_airlines = file1['AIRLINE'].unique()\n",
    "num_unique_airlines = len(unique_airlines)\n",
    "\n",
    "print(f\"There are {num_unique_airlines} unique airlines in the dataset.\")\n",
    "print(\"Airline Names:\")\n",
    "for airline in unique_airlines:\n",
    "    print(airline)\n"
   ]
  },
  {
   "cell_type": "markdown",
   "id": "e6f1c883",
   "metadata": {},
   "source": [
    "#### What is the average departure delay for each airline in the dataset?\n",
    "\n"
   ]
  },
  {
   "cell_type": "code",
   "execution_count": 21,
   "id": "c48c89bb",
   "metadata": {},
   "outputs": [
    {
     "name": "stdout",
     "output_type": "stream",
     "text": [
      "Average Departure Delay by Airline:\n",
      "   AIRLINE  DEPARTURE_DELAY\n",
      "0       AA         8.900856\n",
      "1       AS         1.785801\n",
      "2       B6        11.514353\n",
      "3       DL         7.369254\n",
      "4       EV         8.715934\n",
      "5       F9        13.350858\n",
      "6       HA         0.485713\n",
      "7       MQ        10.125188\n",
      "8       NK        15.944766\n",
      "9       OO         7.801104\n",
      "10      UA        14.435441\n",
      "11      US         6.141137\n",
      "12      VX         9.022595\n",
      "13      WN        10.581986\n"
     ]
    }
   ],
   "source": [
    "average_delay_by_airline = file3.groupby('AIRLINE')['DEPARTURE_DELAY'].mean().reset_index()\n",
    "\n",
    "print(\"Average Departure Delay by Airline:\")\n",
    "print(average_delay_by_airline)\n"
   ]
  },
  {
   "cell_type": "markdown",
   "id": "d66a4f8c",
   "metadata": {},
   "source": [
    "#### Which origin airport has the highest number of departures?\n",
    "\n"
   ]
  },
  {
   "cell_type": "code",
   "execution_count": 22,
   "id": "39007fbb",
   "metadata": {},
   "outputs": [
    {
     "name": "stdout",
     "output_type": "stream",
     "text": [
      "The origin airport with the most departures is: ATL\n"
     ]
    }
   ],
   "source": [
    "# Assuming 'flights' is your DataFrame with 'ORIGIN_AIRPORT' column\n",
    "most_departures = file3['ORIGIN_AIRPORT'].value_counts().idxmax()\n",
    "\n",
    "print(f\"The origin airport with the most departures is: {most_departures}\")\n"
   ]
  },
  {
   "cell_type": "markdown",
   "id": "a6ee2fe7",
   "metadata": {},
   "source": [
    "#### What is the monthly cancellation analysis and predicted cancellations based on the minimum monthly cancellations?"
   ]
  },
  {
   "cell_type": "code",
   "execution_count": 23,
   "id": "ce1ecfc5",
   "metadata": {},
   "outputs": [
    {
     "name": "stdout",
     "output_type": "stream",
     "text": [
      "    MONTH  CANCELLED  PREDICTED_CANCELLATIONS\n",
      "0       1      11982                 5.774458\n",
      "1       2      20517                 9.887711\n",
      "2       3      11002                 5.302169\n",
      "3       4       4520                 2.178313\n",
      "4       5       5694                 2.744096\n",
      "5       6       9120                 4.395181\n",
      "6       7       4806                 2.316145\n",
      "7       8       5052                 2.434699\n",
      "8       9       2075                 1.000000\n",
      "9      10       2454                 1.182651\n",
      "10     11       4599                 2.216386\n",
      "11     12       8063                 3.885783\n"
     ]
    }
   ],
   "source": [
    "# Calculate the sum of cancellations for each month\n",
    "cancellations_by_month = file3.groupby('MONTH')['CANCELLED'].sum().reset_index()\n",
    "\n",
    "# Find the month with the fewest cancellations\n",
    "month_with_fewest_cancellations = cancellations_by_month.loc[cancellations_by_month['CANCELLED'].idxmin()]\n",
    "\n",
    "# Calculate the number of cancellations for each month based on the formula\n",
    "cancellations_by_month['PREDICTED_CANCELLATIONS'] = cancellations_by_month['CANCELLED'] / month_with_fewest_cancellations['CANCELLED']\n",
    "print(cancellations_by_month)\n"
   ]
  }
 ],
 "metadata": {
  "kernelspec": {
   "display_name": "Python 3 (ipykernel)",
   "language": "python",
   "name": "python3"
  },
  "language_info": {
   "codemirror_mode": {
    "name": "ipython",
    "version": 3
   },
   "file_extension": ".py",
   "mimetype": "text/x-python",
   "name": "python",
   "nbconvert_exporter": "python",
   "pygments_lexer": "ipython3",
   "version": "3.11.4"
  }
 },
 "nbformat": 4,
 "nbformat_minor": 5
}
